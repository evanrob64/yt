{
 "cells": [
  {
   "cell_type": "markdown",
   "id": "1c969608",
   "metadata": {},
   "source": [
    "Get All Text From a Webpage"
   ]
  },
  {
   "cell_type": "code",
   "execution_count": null,
   "id": "a67d473b",
   "metadata": {},
   "outputs": [],
   "source": [
    "import requests\n",
    "from bs4 import BeautifulSoup\n",
    "\n",
    "# Get the html\n",
    "resp = requests.get('https://www.fantasydartsleague.com/about')\n",
    "html = resp.text\n",
    "\n",
    "print (html)\n",
    "\n",
    "# Turn into Beautiful Soup\n",
    "soup = BeautifulSoup(html)\n",
    "\n",
    "# Run soup.text\n",
    "print (soup.text)"
   ]
  },
  {
   "cell_type": "markdown",
   "id": "e06fb01e",
   "metadata": {},
   "source": [
    "Need it more refined? Give the HTML to an AI model and get it to write a script to parse it."
   ]
  },
  {
   "cell_type": "markdown",
   "id": "dcdf33c4",
   "metadata": {},
   "source": [
    "Scraping failed? Check out my video on how to scrape 99% of sites."
   ]
  }
 ],
 "metadata": {
  "kernelspec": {
   "display_name": "Python 3",
   "language": "python",
   "name": "python3"
  },
  "language_info": {
   "codemirror_mode": {
    "name": "ipython",
    "version": 3
   },
   "file_extension": ".py",
   "mimetype": "text/x-python",
   "name": "python",
   "nbconvert_exporter": "python",
   "pygments_lexer": "ipython3",
   "version": "3.11.1"
  }
 },
 "nbformat": 4,
 "nbformat_minor": 5
}

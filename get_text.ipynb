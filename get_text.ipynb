{
 "cells": [
  {
   "cell_type": "markdown",
   "id": "1c969608",
   "metadata": {},
   "source": [
    "Get All Text From a Webpage"
   ]
  },
  {
   "cell_type": "code",
   "execution_count": null,
   "id": "a67d473b",
   "metadata": {},
   "outputs": [
    {
     "name": "stdout",
     "output_type": "stream",
     "text": [
      "Fantasy Darts League | About 🎯Fantasy DartsFantasy📊Dashboard🌐Global Leaderboard💰Market🤝Leagues📊StatsGaming👤Career Mode⬆️Higher or Lower🧩DartleReal Life Tools📝Scorer📅Calendar⭐Power RankingsHelp🛠️Contact🚪Logout Change Password  Logout AboutAbout UsAboutFantasy Darts, all year round Fantasy Darts  We founded Fantasy Darts League as we follow the darts all year round yet there wasn't an app for us. So we made one. Build your portfolio of players and watch their value fluctuate in line with performance.  Buy low, sell high  Fantasy Darts League's player marketplace is based on:  Order of Merit position  Market demand  This means prices are performance based. Buy your favourite players at low prices and sell them when you feel they are overvalued. Everyone has an opinion on the darts - put your (virtual) money where your mouth is! You can check it out here. Every Tournament  We track any tournament where players earn money - even non-ranking events. Fair weather darts fans may tune in for the World Championships but Fantasy Darts League means you can get involved in the lesser known events and Euro Tour matches and earn ranking money while you do it. Scoring  You are ranked based on how much prize money your players earn every tournament. There are all time and by tournament leaderboards. If the tournament is a ranking event your players will earn money for your account.  Play Your Friends  We use the old tried and tested fantasy league system. Create a league, generate a code and send it to your friends. This means you can compete against your friends every tournament to see who really knows best.  Ready to start?   Sign up here Want to hear more?   Follow us on Twitter © Themesberg - CI/CD Flow Works Flask Volt Dashboard\n"
     ]
    }
   ],
   "source": [
    "import requests\n",
    "from bs4 import BeautifulSoup\n",
    "\n",
    "# Get the html\n",
    "resp = requests.get('https://www.fantasydartsleague.com/about')\n",
    "html = resp.text\n",
    "\n",
    "print (html)\n",
    "\n",
    "# Turn into Beautiful Soup\n",
    "#soup = BeautifulSoup(html)\n",
    "\n",
    "# Run soup.text\n",
    "#print (soup.text)"
   ]
  },
  {
   "cell_type": "markdown",
   "id": "e06fb01e",
   "metadata": {},
   "source": [
    "Need it more refined? Give the HTML to an AI model and get it to write a script to parse it."
   ]
  },
  {
   "cell_type": "markdown",
   "id": "dcdf33c4",
   "metadata": {},
   "source": [
    "Scraping failed? Check out my video on how to scrape 99% of sites."
   ]
  }
 ],
 "metadata": {
  "kernelspec": {
   "display_name": "Python 3",
   "language": "python",
   "name": "python3"
  },
  "language_info": {
   "codemirror_mode": {
    "name": "ipython",
    "version": 3
   },
   "file_extension": ".py",
   "mimetype": "text/x-python",
   "name": "python",
   "nbconvert_exporter": "python",
   "pygments_lexer": "ipython3",
   "version": "3.11.1"
  }
 },
 "nbformat": 4,
 "nbformat_minor": 5
}

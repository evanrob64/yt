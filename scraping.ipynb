{
 "cells": [
  {
   "cell_type": "markdown",
   "id": "1c969608",
   "metadata": {},
   "source": [
    "Scrapes ~95% of websites"
   ]
  },
  {
   "cell_type": "code",
   "execution_count": null,
   "id": "a67d473b",
   "metadata": {},
   "outputs": [],
   "source": [
    "import requests\n",
    "\n",
    "resp = requests.get('https://www.pint-prices.com/')\n",
    "\n",
    "print (resp.text)"
   ]
  },
  {
   "cell_type": "markdown",
   "id": "187711b3",
   "metadata": {},
   "source": [
    "Scrapes ~96% of websites"
   ]
  },
  {
   "cell_type": "code",
   "execution_count": null,
   "id": "e58bb9a7",
   "metadata": {},
   "outputs": [],
   "source": [
    "### Failure example\n",
    "\n",
    "import requests\n",
    "\n",
    "url = \"https://www.imdb.com/chart/top\"\n",
    "\n",
    "no_headers_resp = requests.get(url)\n",
    "\n",
    "print (no_headers_resp.text) "
   ]
  },
  {
   "cell_type": "code",
   "execution_count": null,
   "id": "d0ac1bf6",
   "metadata": {},
   "outputs": [],
   "source": [
    "import requests\n",
    "\n",
    "url = \"https://www.imdb.com/chart/top\"\n",
    "headers = {\n",
    "    \"User-Agent\": (\n",
    "        \"Mozilla/5.0 (Windows NT 10.0; Win64; x64) \"\n",
    "        \"AppleWebKit/537.36 (KHTML, like Gecko) \"\n",
    "        \"Chrome/115.0.0.0 Safari/537.36\"\n",
    "    ),\n",
    "    \"Accept-Language\": \"en-US,en;q=0.9\",\n",
    "    # you can add others like Accept, Referer, etc.\n",
    "}\n",
    "\n",
    "headers_resp = requests.get(url, headers=headers)\n",
    "\n",
    "print (resp.text)"
   ]
  },
  {
   "cell_type": "markdown",
   "id": "326bb787",
   "metadata": {},
   "source": [
    "Scrapes ~98% of websites"
   ]
  },
  {
   "cell_type": "code",
   "execution_count": null,
   "id": "10c455d5",
   "metadata": {},
   "outputs": [],
   "source": [
    "from selenium import webdriver\n",
    "\n",
    "# Set up the driver\n",
    "driver = webdriver.Chrome()  # or your preferred driver\n",
    "\n",
    "driver.get(\"https://www.airbnb.co.uk/\")\n",
    "\n",
    "print (driver.page_source)\n",
    "\n"
   ]
  },
  {
   "cell_type": "markdown",
   "id": "bf169235",
   "metadata": {},
   "source": [
    "Scrapes ~99% of websites"
   ]
  },
  {
   "cell_type": "code",
   "execution_count": null,
   "id": "cdac9dfb",
   "metadata": {},
   "outputs": [],
   "source": [
    "from selenium import webdriver\n",
    "from selenium.webdriver.support.ui import WebDriverWait\n",
    "from selenium.common.exceptions import TimeoutException\n",
    "\n",
    "\n",
    "load_timeout = 10\n",
    "\n",
    "# Set up the driver\n",
    "driver = webdriver.Chrome()  # or your preferred driver\n",
    "\n",
    "driver.get('https://www.rightmove.co.uk/properties/160903307#/?channel=RES_NEW')\n",
    "\n",
    "# 1) Wait for readyState\n",
    "WebDriverWait(driver, load_timeout).until(\n",
    "    lambda d: d.execute_script(\"return document.readyState\") == \"complete\"\n",
    ")\n",
    "\n",
    "# 2) Wait for jQuery AJAX (if available)\n",
    "try:\n",
    "    WebDriverWait(driver, load_timeout).until(\n",
    "        lambda d: d.execute_script(\"return window.jQuery == undefined || jQuery.active === 0\")\n",
    "    )\n",
    "except TimeoutException:\n",
    "    # not critical—page may not use jQuery\n",
    "    pass\n",
    "\n",
    "\n",
    "print (driver.page_source)"
   ]
  },
  {
   "cell_type": "markdown",
   "id": "7fce3997",
   "metadata": {},
   "source": [
    "Need 100%?\n",
    "\n",
    "- Dedicated APIs for that platform\n",
    "- Dedicated webscraping APIs\n",
    "- Hire a Virtual Assistant for data entry"
   ]
  }
 ],
 "metadata": {
  "kernelspec": {
   "display_name": "Python 3",
   "language": "python",
   "name": "python3"
  },
  "language_info": {
   "codemirror_mode": {
    "name": "ipython",
    "version": 3
   },
   "file_extension": ".py",
   "mimetype": "text/x-python",
   "name": "python",
   "nbconvert_exporter": "python",
   "pygments_lexer": "ipython3",
   "version": "3.11.1"
  }
 },
 "nbformat": 4,
 "nbformat_minor": 5
}
